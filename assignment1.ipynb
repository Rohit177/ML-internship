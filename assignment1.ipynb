{
 "cells": [
  {
   "cell_type": "markdown",
   "metadata": {
    "colab_type": "text",
    "id": "tnvyahhH9Rw5"
   },
   "source": [
    "# NumPy Exercises \n",
    "Here output is specified. You have to write code to generate that output\n"
   ]
  },
  {
   "cell_type": "markdown",
   "metadata": {
    "colab_type": "text",
    "id": "AkDTxMIu9Rw_"
   },
   "source": [
    "#### Import NumPy as np"
   ]
  },
  {
   "cell_type": "code",
   "execution_count": 3,
   "metadata": {
    "colab": {},
    "colab_type": "code",
    "id": "u2D6zTHK9RxC"
   },
   "outputs": [],
   "source": [
    "import numpy as np"
   ]
  },
  {
   "cell_type": "markdown",
   "metadata": {
    "colab_type": "text",
    "id": "8zIaMIqz9RxW"
   },
   "source": [
    "#### Create an array of 10 zeros "
   ]
  },
  {
   "cell_type": "code",
   "execution_count": null,
   "metadata": {
    "colab": {
     "base_uri": "https://localhost:8080/",
     "height": 34
    },
    "colab_type": "code",
    "executionInfo": {
     "elapsed": 2538,
     "status": "ok",
     "timestamp": 1594220964470,
     "user": {
      "displayName": "Pratik Kulkarni",
      "photoUrl": "https://lh3.googleusercontent.com/a-/AOh14GggboptF_fAip-1idBYmfTps3TBBt_UKd3WTNWUJw=s64",
      "userId": "01049905502043162708"
     },
     "user_tz": -330
    },
    "id": "8dqS5_iy9RxY",
    "outputId": "b392d8ca-e595-4415-8895-10e46c68ef4f"
   },
   "outputs": [
    {
     "data": {
      "text/plain": [
       "array([0., 0., 0., 0., 0., 0., 0., 0., 0., 0.])"
      ]
     },
     "execution_count": 2,
     "metadata": {
      "tags": []
     },
     "output_type": "execute_result"
    }
   ],
   "source": [
    "arr=np.zeros(10)\n",
    "arr"
   ]
  },
  {
   "cell_type": "markdown",
   "metadata": {
    "colab_type": "text",
    "id": "UhvsnOBo9Rxt"
   },
   "source": [
    "#### Create an array of 10 ones"
   ]
  },
  {
   "cell_type": "code",
   "execution_count": null,
   "metadata": {
    "colab": {
     "base_uri": "https://localhost:8080/",
     "height": 34
    },
    "colab_type": "code",
    "executionInfo": {
     "elapsed": 1390,
     "status": "ok",
     "timestamp": 1594220984252,
     "user": {
      "displayName": "Pratik Kulkarni",
      "photoUrl": "https://lh3.googleusercontent.com/a-/AOh14GggboptF_fAip-1idBYmfTps3TBBt_UKd3WTNWUJw=s64",
      "userId": "01049905502043162708"
     },
     "user_tz": -330
    },
    "id": "sQNm9pS-9Rxy",
    "outputId": "6bbd5de2-659c-4c56-9a68-e0e3b0d123cf"
   },
   "outputs": [
    {
     "data": {
      "text/plain": [
       "array([1., 1., 1., 1., 1., 1., 1., 1., 1., 1.])"
      ]
     },
     "execution_count": 3,
     "metadata": {
      "tags": []
     },
     "output_type": "execute_result"
    }
   ],
   "source": [
    "arr=np.ones(10)\n",
    "arr"
   ]
  },
  {
   "cell_type": "markdown",
   "metadata": {
    "colab_type": "text",
    "id": "9TBCft4D9RyA"
   },
   "source": [
    "#### Create an array of 10 fives"
   ]
  },
  {
   "cell_type": "code",
   "execution_count": null,
   "metadata": {
    "colab": {
     "base_uri": "https://localhost:8080/",
     "height": 34
    },
    "colab_type": "code",
    "executionInfo": {
     "elapsed": 54,
     "status": "ok",
     "timestamp": 1594221202008,
     "user": {
      "displayName": "Pratik Kulkarni",
      "photoUrl": "https://lh3.googleusercontent.com/a-/AOh14GggboptF_fAip-1idBYmfTps3TBBt_UKd3WTNWUJw=s64",
      "userId": "01049905502043162708"
     },
     "user_tz": -330
    },
    "id": "u-1nJS7O9RyD",
    "outputId": "7447b84c-9764-4405-90b8-08e9d091bdb4"
   },
   "outputs": [
    {
     "data": {
      "text/plain": [
       "array([5., 5., 5., 5., 5., 5., 5., 5., 5., 5.])"
      ]
     },
     "execution_count": 4,
     "metadata": {
      "tags": []
     },
     "output_type": "execute_result"
    }
   ],
   "source": [
    "arr=np.ones(10)*5\n",
    "arr"
   ]
  },
  {
   "cell_type": "markdown",
   "metadata": {
    "colab_type": "text",
    "id": "32ecCD_x9RyU"
   },
   "source": [
    "#### Create an array of the integers from 10 to 50"
   ]
  },
  {
   "cell_type": "code",
   "execution_count": null,
   "metadata": {
    "colab": {
     "base_uri": "https://localhost:8080/",
     "height": 68
    },
    "colab_type": "code",
    "executionInfo": {
     "elapsed": 2504,
     "status": "ok",
     "timestamp": 1594221231068,
     "user": {
      "displayName": "Pratik Kulkarni",
      "photoUrl": "https://lh3.googleusercontent.com/a-/AOh14GggboptF_fAip-1idBYmfTps3TBBt_UKd3WTNWUJw=s64",
      "userId": "01049905502043162708"
     },
     "user_tz": -330
    },
    "id": "NUPChB819RyW",
    "outputId": "9598afc0-5142-4dce-dc06-d7f90232d623"
   },
   "outputs": [
    {
     "data": {
      "text/plain": [
       "array([10, 11, 12, 13, 14, 15, 16, 17, 18, 19, 20, 21, 22, 23, 24, 25, 26,\n",
       "       27, 28, 29, 30, 31, 32, 33, 34, 35, 36, 37, 38, 39, 40, 41, 42, 43,\n",
       "       44, 45, 46, 47, 48, 49, 50])"
      ]
     },
     "execution_count": 5,
     "metadata": {
      "tags": []
     },
     "output_type": "execute_result"
    }
   ],
   "source": [
    "arr=np.arange(10,51)\n",
    "arr"
   ]
  },
  {
   "cell_type": "markdown",
   "metadata": {
    "colab_type": "text",
    "id": "8kjXSRhH9Rym"
   },
   "source": [
    "#### Create an array of all the even integers from 10 to 50"
   ]
  },
  {
   "cell_type": "code",
   "execution_count": null,
   "metadata": {
    "colab": {
     "base_uri": "https://localhost:8080/",
     "height": 51
    },
    "colab_type": "code",
    "executionInfo": {
     "elapsed": 2357,
     "status": "ok",
     "timestamp": 1594221264567,
     "user": {
      "displayName": "Pratik Kulkarni",
      "photoUrl": "https://lh3.googleusercontent.com/a-/AOh14GggboptF_fAip-1idBYmfTps3TBBt_UKd3WTNWUJw=s64",
      "userId": "01049905502043162708"
     },
     "user_tz": -330
    },
    "id": "oQ9Dzje39Ryr",
    "outputId": "c234d170-878f-4834-c9ef-ecf915380dcd"
   },
   "outputs": [
    {
     "data": {
      "text/plain": [
       "array([10, 12, 14, 16, 18, 20, 22, 24, 26, 28, 30, 32, 34, 36, 38, 40, 42,\n",
       "       44, 46, 48, 50])"
      ]
     },
     "execution_count": 6,
     "metadata": {
      "tags": []
     },
     "output_type": "execute_result"
    }
   ],
   "source": [
    "arr=np.arange(10,51,2)\n",
    "arr"
   ]
  },
  {
   "cell_type": "markdown",
   "metadata": {
    "colab_type": "text",
    "id": "JccGamSm9Ry8"
   },
   "source": [
    "#### Create a 3x3 matrix with values ranging from 0 to 8"
   ]
  },
  {
   "cell_type": "code",
   "execution_count": null,
   "metadata": {
    "colab": {
     "base_uri": "https://localhost:8080/",
     "height": 68
    },
    "colab_type": "code",
    "executionInfo": {
     "elapsed": 1253,
     "status": "ok",
     "timestamp": 1594221301011,
     "user": {
      "displayName": "Pratik Kulkarni",
      "photoUrl": "https://lh3.googleusercontent.com/a-/AOh14GggboptF_fAip-1idBYmfTps3TBBt_UKd3WTNWUJw=s64",
      "userId": "01049905502043162708"
     },
     "user_tz": -330
    },
    "id": "YGqNXmrC9Ry_",
    "outputId": "20d84ccf-edb5-47a8-e0ae-b91d6c1ba640"
   },
   "outputs": [
    {
     "data": {
      "text/plain": [
       "array([[0, 1, 2],\n",
       "       [3, 4, 5],\n",
       "       [6, 7, 8]])"
      ]
     },
     "execution_count": 7,
     "metadata": {
      "tags": []
     },
     "output_type": "execute_result"
    }
   ],
   "source": [
    "data=[(0,1,2),(3,4,5),(6,7,8)]\n",
    "arr=np.array(data)\n",
    "arr"
   ]
  },
  {
   "cell_type": "markdown",
   "metadata": {
    "colab_type": "text",
    "id": "yrsFvlUD9RzO"
   },
   "source": [
    "#### Create a 3x3 identity matrix"
   ]
  },
  {
   "cell_type": "code",
   "execution_count": null,
   "metadata": {
    "colab": {
     "base_uri": "https://localhost:8080/",
     "height": 68
    },
    "colab_type": "code",
    "executionInfo": {
     "elapsed": 1206,
     "status": "ok",
     "timestamp": 1594221342002,
     "user": {
      "displayName": "Pratik Kulkarni",
      "photoUrl": "https://lh3.googleusercontent.com/a-/AOh14GggboptF_fAip-1idBYmfTps3TBBt_UKd3WTNWUJw=s64",
      "userId": "01049905502043162708"
     },
     "user_tz": -330
    },
    "id": "Lot2pwUF9RzR",
    "outputId": "8f92c2bf-6558-422e-89fa-b4ba4b920f09"
   },
   "outputs": [
    {
     "data": {
      "text/plain": [
       "array([[1., 0., 0.],\n",
       "       [0., 1., 0.],\n",
       "       [0., 0., 1.]])"
      ]
     },
     "execution_count": 8,
     "metadata": {
      "tags": []
     },
     "output_type": "execute_result"
    }
   ],
   "source": [
    "arr=np.identity(3)\n",
    "arr"
   ]
  },
  {
   "cell_type": "markdown",
   "metadata": {
    "colab_type": "text",
    "id": "0GhWVWGK9Rzd"
   },
   "source": [
    "#### Create an array of 20 linearly spaced points between 0 and 1:"
   ]
  },
  {
   "cell_type": "code",
   "execution_count": null,
   "metadata": {
    "colab": {
     "base_uri": "https://localhost:8080/",
     "height": 85
    },
    "colab_type": "code",
    "executionInfo": {
     "elapsed": 1166,
     "status": "ok",
     "timestamp": 1594221373554,
     "user": {
      "displayName": "Pratik Kulkarni",
      "photoUrl": "https://lh3.googleusercontent.com/a-/AOh14GggboptF_fAip-1idBYmfTps3TBBt_UKd3WTNWUJw=s64",
      "userId": "01049905502043162708"
     },
     "user_tz": -330
    },
    "id": "McD9qamW9Rzg",
    "outputId": "6c351525-6c31-4f81-edda-5c0fa6e7cddd"
   },
   "outputs": [
    {
     "data": {
      "text/plain": [
       "array([0.        , 0.05263158, 0.10526316, 0.15789474, 0.21052632,\n",
       "       0.26315789, 0.31578947, 0.36842105, 0.42105263, 0.47368421,\n",
       "       0.52631579, 0.57894737, 0.63157895, 0.68421053, 0.73684211,\n",
       "       0.78947368, 0.84210526, 0.89473684, 0.94736842, 1.        ])"
      ]
     },
     "execution_count": 9,
     "metadata": {
      "tags": []
     },
     "output_type": "execute_result"
    }
   ],
   "source": [
    "arr=np.linspace(0,1,20)\n",
    "arr"
   ]
  },
  {
   "cell_type": "markdown",
   "metadata": {
    "colab_type": "text",
    "id": "e_gYRWq_9Rzs"
   },
   "source": [
    "## Numpy Indexing and Selection\n",
    "\n",
    "Now you will be given a few matrices, and be asked to replicate the resulting matrix outputs:"
   ]
  },
  {
   "cell_type": "code",
   "execution_count": null,
   "metadata": {
    "colab": {
     "base_uri": "https://localhost:8080/",
     "height": 103
    },
    "colab_type": "code",
    "executionInfo": {
     "elapsed": 1267,
     "status": "ok",
     "timestamp": 1594271704313,
     "user": {
      "displayName": "Pratik Kulkarni",
      "photoUrl": "https://lh3.googleusercontent.com/a-/AOh14GggboptF_fAip-1idBYmfTps3TBBt_UKd3WTNWUJw=s64",
      "userId": "01049905502043162708"
     },
     "user_tz": -330
    },
    "id": "8uP8xGrt9Rzv",
    "outputId": "5e535057-3821-4161-8d31-41f878b72430"
   },
   "outputs": [
    {
     "data": {
      "text/plain": [
       "array([[ 1,  2,  3,  4,  5],\n",
       "       [ 6,  7,  8,  9, 10],\n",
       "       [11, 12, 13, 14, 15],\n",
       "       [16, 17, 18, 19, 20],\n",
       "       [21, 22, 23, 24, 25]])"
      ]
     },
     "execution_count": 3,
     "metadata": {
      "tags": []
     },
     "output_type": "execute_result"
    }
   ],
   "source": [
    "mat = np.arange(1,26).reshape(5,5)\n",
    "mat"
   ]
  },
  {
   "cell_type": "code",
   "execution_count": null,
   "metadata": {
    "colab": {},
    "colab_type": "code",
    "id": "e1dp7znC9R0E"
   },
   "outputs": [],
   "source": [
    "# WRITE CODE HERE THAT REPRODUCES THE OUTPUT OF THE CELL BELOW\n",
    "# BE CAREFUL NOT TO RUN THE CELL BELOW, OTHERWISE YOU WON'T\n",
    "# BE ABLE TO SEE THE OUTPUT ANY MORE"
   ]
  },
  {
   "cell_type": "code",
   "execution_count": 6,
   "metadata": {
    "colab": {},
    "colab_type": "code",
    "id": "2EOrJ_889R0X",
    "outputId": "e8e82a6a-4a29-4db8-f521-e966f1e674a5"
   },
   "outputs": [
    {
     "data": {
      "text/plain": [
       "array([[12, 13, 14, 15],\n",
       "       [17, 18, 19, 20],\n",
       "       [22, 23, 24, 25]])"
      ]
     },
     "execution_count": 6,
     "metadata": {},
     "output_type": "execute_result"
    }
   ],
   "source": [
    "array = np.arange(12,27).reshape(3,5)\n",
    "array[0:3,0:4]"
   ]
  },
  {
   "cell_type": "code",
   "execution_count": null,
   "metadata": {
    "colab": {},
    "colab_type": "code",
    "id": "kO8fN75w9R0m"
   },
   "outputs": [],
   "source": [
    "# WRITE CODE HERE THAT REPRODUCES THE OUTPUT OF THE CELL BELOW\n",
    "# BE CAREFUL NOT TO RUN THE CELL BELOW, OTHERWISE YOU WON'T\n",
    "# BE ABLE TO SEE THE OUTPUT ANY MORE"
   ]
  },
  {
   "cell_type": "code",
   "execution_count": null,
   "metadata": {
    "colab": {
     "base_uri": "https://localhost:8080/",
     "height": 34
    },
    "colab_type": "code",
    "executionInfo": {
     "elapsed": 1722,
     "status": "ok",
     "timestamp": 1594273070289,
     "user": {
      "displayName": "Pratik Kulkarni",
      "photoUrl": "https://lh3.googleusercontent.com/a-/AOh14GggboptF_fAip-1idBYmfTps3TBBt_UKd3WTNWUJw=s64",
      "userId": "01049905502043162708"
     },
     "user_tz": -330
    },
    "id": "DqGNGzD79R01",
    "outputId": "0346dc40-1670-49cc-b92c-58fe0691c734"
   },
   "outputs": [
    {
     "data": {
      "text/plain": [
       "20"
      ]
     },
     "execution_count": 11,
     "metadata": {
      "tags": []
     },
     "output_type": "execute_result"
    }
   ],
   "source": [
    "num = mat[3][4]\n",
    "num"
   ]
  },
  {
   "cell_type": "code",
   "execution_count": null,
   "metadata": {
    "colab": {},
    "colab_type": "code",
    "id": "Zhbjt3R_9R1A"
   },
   "outputs": [],
   "source": [
    "# WRITE CODE HERE THAT REPRODUCES THE OUTPUT OF THE CELL BELOW\n",
    "# BE CAREFUL NOT TO RUN THE CELL BELOW, OTHERWISE YOU WON'T\n",
    "# BE ABLE TO SEE THE OUTPUT ANY MORE"
   ]
  },
  {
   "cell_type": "code",
   "execution_count": 5,
   "metadata": {
    "colab": {},
    "colab_type": "code",
    "id": "cv0VeajR9R1S"
   },
   "outputs": [
    {
     "data": {
      "text/plain": [
       "array([[ 2],\n",
       "       [ 7],\n",
       "       [12]])"
      ]
     },
     "execution_count": 5,
     "metadata": {},
     "output_type": "execute_result"
    }
   ],
   "source": [
    "array = np.arange(1,16).reshape(3,5)\n",
    "array[::,1:2]"
   ]
  },
  {
   "cell_type": "code",
   "execution_count": null,
   "metadata": {
    "colab": {},
    "colab_type": "code",
    "id": "C3taQJD59R1i"
   },
   "outputs": [],
   "source": [
    "# WRITE CODE HERE THAT REPRODUCES THE OUTPUT OF THE CELL BELOW\n",
    "# BE CAREFUL NOT TO RUN THE CELL BELOW, OTHERWISE YOU WON'T\n",
    "# BE ABLE TO SEE THE OUTPUT ANY MORE"
   ]
  },
  {
   "cell_type": "code",
   "execution_count": null,
   "metadata": {
    "colab": {
     "base_uri": "https://localhost:8080/",
     "height": 34
    },
    "colab_type": "code",
    "executionInfo": {
     "elapsed": 2142,
     "status": "ok",
     "timestamp": 1594272065212,
     "user": {
      "displayName": "Pratik Kulkarni",
      "photoUrl": "https://lh3.googleusercontent.com/a-/AOh14GggboptF_fAip-1idBYmfTps3TBBt_UKd3WTNWUJw=s64",
      "userId": "01049905502043162708"
     },
     "user_tz": -330
    },
    "id": "2iV4AzLg9R1x",
    "outputId": "15f26c7f-c609-4211-8329-e309c237ad53"
   },
   "outputs": [
    {
     "data": {
      "text/plain": [
       "array([21, 22, 23, 24, 25])"
      ]
     },
     "execution_count": 10,
     "metadata": {
      "tags": []
     },
     "output_type": "execute_result"
    }
   ],
   "source": [
    "rows = mat[4]\n",
    "rows"
   ]
  },
  {
   "cell_type": "code",
   "execution_count": null,
   "metadata": {
    "colab": {},
    "colab_type": "code",
    "id": "mCg3cn8k9R18"
   },
   "outputs": [],
   "source": [
    "# WRITE CODE HERE THAT REPRODUCES THE OUTPUT OF THE CELL BELOW\n",
    "# BE CAREFUL NOT TO RUN THE CELL BELOW, OTHERWISE YOU WON'T\n",
    "# BE ABLE TO SEE THE OUTPUT ANY MORE"
   ]
  },
  {
   "cell_type": "code",
   "execution_count": null,
   "metadata": {
    "colab": {
     "base_uri": "https://localhost:8080/",
     "height": 51
    },
    "colab_type": "code",
    "executionInfo": {
     "elapsed": 1439,
     "status": "ok",
     "timestamp": 1594271710409,
     "user": {
      "displayName": "Pratik Kulkarni",
      "photoUrl": "https://lh3.googleusercontent.com/a-/AOh14GggboptF_fAip-1idBYmfTps3TBBt_UKd3WTNWUJw=s64",
      "userId": "01049905502043162708"
     },
     "user_tz": -330
    },
    "id": "eYd9Ssbc9R2M",
    "outputId": "2a866504-5d12-48ff-e645-b9f0fb98fe58"
   },
   "outputs": [
    {
     "data": {
      "text/plain": [
       "array([[16, 17, 18, 19, 20],\n",
       "       [21, 22, 23, 24, 25]])"
      ]
     },
     "execution_count": 4,
     "metadata": {
      "tags": []
     },
     "output_type": "execute_result"
    }
   ],
   "source": [
    "rows = mat[3: , :]\n",
    "rows"
   ]
  },
  {
   "cell_type": "markdown",
   "metadata": {
    "colab_type": "text",
    "id": "B-ODz_HL9R2W"
   },
   "source": [
    "### Now do the following"
   ]
  },
  {
   "cell_type": "markdown",
   "metadata": {
    "colab_type": "text",
    "id": "ZNeiqCV99R2Z"
   },
   "source": [
    "#### Get the sum of all the values in mat"
   ]
  },
  {
   "cell_type": "code",
   "execution_count": null,
   "metadata": {
    "colab": {
     "base_uri": "https://localhost:8080/",
     "height": 34
    },
    "colab_type": "code",
    "executionInfo": {
     "elapsed": 1456,
     "status": "ok",
     "timestamp": 1594271715354,
     "user": {
      "displayName": "Pratik Kulkarni",
      "photoUrl": "https://lh3.googleusercontent.com/a-/AOh14GggboptF_fAip-1idBYmfTps3TBBt_UKd3WTNWUJw=s64",
      "userId": "01049905502043162708"
     },
     "user_tz": -330
    },
    "id": "AB7-wdfq9R2b",
    "outputId": "90e972e3-c018-4c7c-b46f-891500ffbc72"
   },
   "outputs": [
    {
     "data": {
      "text/plain": [
       "325"
      ]
     },
     "execution_count": 5,
     "metadata": {
      "tags": []
     },
     "output_type": "execute_result"
    }
   ],
   "source": [
    "np.sum(mat)"
   ]
  },
  {
   "cell_type": "markdown",
   "metadata": {
    "colab_type": "text",
    "id": "YLbiB7Zb9R2q"
   },
   "source": [
    "#### Get the standard deviation of the values in mat"
   ]
  },
  {
   "cell_type": "code",
   "execution_count": null,
   "metadata": {
    "colab": {
     "base_uri": "https://localhost:8080/",
     "height": 34
    },
    "colab_type": "code",
    "executionInfo": {
     "elapsed": 1521,
     "status": "ok",
     "timestamp": 1594271719484,
     "user": {
      "displayName": "Pratik Kulkarni",
      "photoUrl": "https://lh3.googleusercontent.com/a-/AOh14GggboptF_fAip-1idBYmfTps3TBBt_UKd3WTNWUJw=s64",
      "userId": "01049905502043162708"
     },
     "user_tz": -330
    },
    "id": "4Ai0iKys9R2s",
    "outputId": "1935e1eb-4d74-4bfe-e49d-0d84f6514041"
   },
   "outputs": [
    {
     "data": {
      "text/plain": [
       "7.211102550927978"
      ]
     },
     "execution_count": 6,
     "metadata": {
      "tags": []
     },
     "output_type": "execute_result"
    }
   ],
   "source": [
    "np.std(mat)"
   ]
  },
  {
   "cell_type": "markdown",
   "metadata": {
    "colab_type": "text",
    "id": "QPwzBBBk9R27"
   },
   "source": [
    "#### Get the sum of all the columns in mat"
   ]
  },
  {
   "cell_type": "code",
   "execution_count": null,
   "metadata": {
    "colab": {
     "base_uri": "https://localhost:8080/",
     "height": 34
    },
    "colab_type": "code",
    "executionInfo": {
     "elapsed": 1359,
     "status": "ok",
     "timestamp": 1594271723031,
     "user": {
      "displayName": "Pratik Kulkarni",
      "photoUrl": "https://lh3.googleusercontent.com/a-/AOh14GggboptF_fAip-1idBYmfTps3TBBt_UKd3WTNWUJw=s64",
      "userId": "01049905502043162708"
     },
     "user_tz": -330
    },
    "id": "Juh9eRvL9R29",
    "outputId": "8eb18acd-7789-4082-967a-18fd9a6cab5b"
   },
   "outputs": [
    {
     "data": {
      "text/plain": [
       "array([55, 60, 65, 70, 75])"
      ]
     },
     "execution_count": 7,
     "metadata": {
      "tags": []
     },
     "output_type": "execute_result"
    }
   ],
   "source": [
    "np.sum(mat,axis=0)"
   ]
  }
 ],
 "metadata": {
  "colab": {
   "name": "Copy of Numpy Exercises1.ipynb",
   "provenance": [
    {
     "file_id": "1_Q7KggEk0RqAg_uygO6ClY8YA1r__BbS",
     "timestamp": 1594221500635
    }
   ]
  },
  "kernelspec": {
   "display_name": "Python 3",
   "language": "python",
   "name": "python3"
  },
  "language_info": {
   "codemirror_mode": {
    "name": "ipython",
    "version": 3
   },
   "file_extension": ".py",
   "mimetype": "text/x-python",
   "name": "python",
   "nbconvert_exporter": "python",
   "pygments_lexer": "ipython3",
   "version": "3.7.4"
  }
 },
 "nbformat": 4,
 "nbformat_minor": 1
}
